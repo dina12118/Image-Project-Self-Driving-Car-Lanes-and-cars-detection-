{
 "cells": [
  {
   "cell_type": "markdown",
   "id": "e5af3a9b",
   "metadata": {},
   "source": [
    "## Imort Useful Libraries"
   ]
  },
  {
   "cell_type": "code",
   "execution_count": 1,
   "id": "6bdac073",
   "metadata": {},
   "outputs": [],
   "source": [
    "import numpy as np\n",
    "import cv2 as cv\n",
    "import time\n",
    "import os\n",
    "import glob\n",
    "import matplotlib.pyplot as plt\n",
    "from moviepy.editor import VideoFileClip\n",
    "from moviepy.editor import *\n",
    "from IPython.display import HTML\n",
    "from PIL import Image\n",
    "%matplotlib inline"
   ]
  },
  {
   "cell_type": "markdown",
   "id": "d3f518e6",
   "metadata": {},
   "source": [
    "## Load YOLO weights and cfg"
   ]
  },
  {
   "cell_type": "code",
   "execution_count": 2,
   "id": "7d705723",
   "metadata": {},
   "outputs": [
    {
     "name": "stdout",
     "output_type": "stream",
     "text": [
      "Loaded!\n"
     ]
    }
   ],
   "source": [
    "weights_path1 = \"C:/Users/comp/Desktop/Project_Output/yolov3.weights\"\n",
    "cfg_path1 = \"C:/Users/comp/Desktop/Project_Output/yolov3.cfg\"\n",
    "\n",
    "print(\"Loaded!\")"
   ]
  },
  {
   "cell_type": "markdown",
   "id": "49f39082",
   "metadata": {},
   "source": [
    "## Read The Labels File\n"
   ]
  },
  {
   "cell_type": "code",
   "execution_count": 3,
   "id": "881cd1e1",
   "metadata": {},
   "outputs": [],
   "source": [
    "labels_path = \"C:/Users/comp/Desktop/Project_Output/coco.names.txt\"\n",
    "labels = open(labels_path).read().strip().split(\"\\n\")"
   ]
  },
  {
   "cell_type": "markdown",
   "id": "ff9281f6",
   "metadata": {},
   "source": [
    "## Load Nural Nestwork in CV2"
   ]
  },
  {
   "cell_type": "code",
   "execution_count": 4,
   "id": "180b2bcb",
   "metadata": {},
   "outputs": [],
   "source": [
    "net = cv.dnn.readNetFromDarknet(cfg_path1,weights_path1)"
   ]
  },
  {
   "cell_type": "markdown",
   "id": "9daebaac",
   "metadata": {},
   "source": [
    "### Get Layers Names"
   ]
  },
  {
   "cell_type": "code",
   "execution_count": 5,
   "id": "e3258072",
   "metadata": {},
   "outputs": [],
   "source": [
    "names = net.getLayerNames()"
   ]
  },
  {
   "cell_type": "code",
   "execution_count": 6,
   "id": "e97484b4",
   "metadata": {},
   "outputs": [],
   "source": [
    "Layers_Names = [names[i - 1] for i in net.getUnconnectedOutLayers()]"
   ]
  },
  {
   "cell_type": "markdown",
   "id": "03f38120",
   "metadata": {},
   "source": [
    "### Load Test Image"
   ]
  },
  {
   "cell_type": "code",
   "execution_count": 7,
   "id": "75412253",
   "metadata": {},
   "outputs": [],
   "source": [
    "def load_img(img_path):\n",
    "    img = cv.imread(img_path)\n",
    "    img = cv.cvtColor(img, cv.COLOR_BGR2RGB)\n",
    "    return img"
   ]
  },
  {
   "cell_type": "markdown",
   "id": "44d47e43",
   "metadata": {},
   "source": [
    "### Run the inference on the test image"
   ]
  },
  {
   "cell_type": "code",
   "execution_count": 8,
   "id": "9932105f",
   "metadata": {},
   "outputs": [],
   "source": [
    "def run_inference(img,Layers_Names):\n",
    "    blob = cv.dnn.blobFromImage(img,1/255.0,(416,416),crop = False , swapRB = False)\n",
    "    net.setInput(blob)\n",
    "\n",
    "    Layers_Output = net.forward(Layers_Names)\n",
    "    (H , W) = img.shape[:2]\n",
    "    \n",
    "    #return Layers_Output\n",
    "    boxes = []\n",
    "    confidences = []\n",
    "    classIDs = []\n",
    "    \n",
    "    for outputs in Layers_Output:\n",
    "        for detection in outputs:\n",
    "            scores = detection[5:]\n",
    "            classID = np.argmax(scores)\n",
    "            confidence = scores[classID]\n",
    "        \n",
    "            if (confidence > 0.85):\n",
    "                box = detection[:4] * np.array([W,H,W,H])\n",
    "                bx , by, bw, bh = box.astype(\"int\")\n",
    "             \n",
    "                x = int(bx - (bw / 2))\n",
    "                y = int(by - (bh / 2))\n",
    "            \n",
    "                boxes.append([x,y,int(bw),int(bh)])\n",
    "                confidences.append(float(confidence))\n",
    "                classIDs.append(classID)\n",
    "                \n",
    "    idxs = cv.dnn.NMSBoxes(boxes,confidences,0.8,0.8)\n",
    "    return boxes, confidences, classIDs, idxs"
   ]
  },
  {
   "cell_type": "markdown",
   "id": "38990003",
   "metadata": {},
   "source": [
    "### Plot The Bounding Boxes in the Image"
   ]
  },
  {
   "cell_type": "code",
   "execution_count": 9,
   "id": "40861604",
   "metadata": {},
   "outputs": [],
   "source": [
    "def plot_Bounding_Boxes(img, boxes, confidences, classIDs, idxs):\n",
    "    if len(idxs) > 0:\n",
    "        for i in idxs.flatten():\n",
    "            (x , y) = [boxes[i][0],boxes[i][1]]\n",
    "            (w , h) = [boxes[i][2],boxes[i][3]]\n",
    "    \n",
    "            cv.rectangle(img,(x,y), (x+w,y+h), (0,0,255),2)\n",
    "            cv.putText(img,\"{}: {}\".format(labels[classIDs[i]] ,confidences[i]) , (x,y-5) , cv.LINE_AA , 0.5 ,(255,255,255),2 )\n",
    "    \n",
    "    return img"
   ]
  },
  {
   "cell_type": "markdown",
   "id": "ae37fd3a",
   "metadata": {},
   "source": [
    "## Cars Detection Pipeline"
   ]
  },
  {
   "cell_type": "code",
   "execution_count": 10,
   "id": "4ef6097c",
   "metadata": {},
   "outputs": [],
   "source": [
    "def car_pipeline(img):\n",
    "    #img = load_img(input_path)\n",
    "    boxes, confidences, classIDs, idxs = run_inference(img,Layers_Names)\n",
    "    out_img = plot_Bounding_Boxes(img, boxes, confidences, classIDs, idxs)\n",
    "    #cv.imshow(\"Image\",cv.cvtColor(img, cv.COLOR_BGR2RGB))\n",
    "    #cv.waitKey(0)\n",
    "    return out_img\n",
    "    "
   ]
  },
  {
   "cell_type": "code",
   "execution_count": 11,
   "id": "e4f21d6f",
   "metadata": {},
   "outputs": [],
   "source": [
    "def Create_Image2(input_path,output_path):\n",
    "    img = load_img(input_path)\n",
    "    new_img = car_pipeline(img)\n",
    "    new_img = Image.fromarray(new_img.astype(np.uint8), 'RGB')\n",
    "    new_img.save(output_path)\n",
    "    #cv.imshow(\"Image\",cv.cvtColor(img, cv.COLOR_BGR2RGB))\n",
    "    #cv.waitKey(0)"
   ]
  },
  {
   "cell_type": "code",
   "execution_count": null,
   "id": "357d361b",
   "metadata": {},
   "outputs": [],
   "source": []
  },
  {
   "cell_type": "code",
   "execution_count": 12,
   "id": "06d20f51",
   "metadata": {},
   "outputs": [],
   "source": [
    "def Create_Video2(input_path,output_path):\n",
    "    video_input = VideoFileClip(input_path)\n",
    "    processed_video = video_input.fl_image(car_pipeline)\n",
    "    %time  processed_video.write_videofile(output_path, audio=False)"
   ]
  },
  {
   "cell_type": "code",
   "execution_count": null,
   "id": "fb62c713",
   "metadata": {},
   "outputs": [],
   "source": []
  },
  {
   "cell_type": "code",
   "execution_count": null,
   "id": "c16e4432",
   "metadata": {},
   "outputs": [],
   "source": []
  },
  {
   "cell_type": "code",
   "execution_count": null,
   "id": "0e210cae",
   "metadata": {},
   "outputs": [],
   "source": []
  },
  {
   "cell_type": "markdown",
   "id": "15472cb1",
   "metadata": {},
   "source": [
    "# For running in Anaconda cmd\n"
   ]
  },
  {
   "cell_type": "code",
   "execution_count": null,
   "id": "3cb2b778",
   "metadata": {},
   "outputs": [],
   "source": [
    "import sys,os,argparse\n",
    "from IPython.display import HTML\n",
    "CONFIG_FILE = '.config_ipynb'\n",
    "if os.path.isfile(CONFIG_FILE):\n",
    "    with open(CONFIG_FILE) as f:\n",
    "        sys.argv = f.read().split()\n",
    "else:\n",
    "    sys.argv = ['test_car_phase2.py', 'input_path','output_path','--type']\n",
    "\n",
    "parser = argparse.ArgumentParser()\n",
    "parser.add_argument(\"input_path\",help=\"Input path of video \")\n",
    "parser.add_argument(\"output_path\",help=\"output path of video \")\n",
    "parser.add_argument(\"--type\", type=int, default=0, help=\" 1 for image , 0 for video \")\n",
    "args = parser.parse_args()\n",
    "if (args.type==0):\n",
    "    Create_Video2(args.input_path,args.output_path)\n",
    "elif (args.type==1):\n",
    "    Create_Image2(args.input_path,args.output_path)"
   ]
  }
 ],
 "metadata": {
  "kernelspec": {
   "display_name": "Python 3",
   "language": "python",
   "name": "python3"
  },
  "language_info": {
   "codemirror_mode": {
    "name": "ipython",
    "version": 3
   },
   "file_extension": ".py",
   "mimetype": "text/x-python",
   "name": "python",
   "nbconvert_exporter": "python",
   "pygments_lexer": "ipython3",
   "version": "3.8.8"
  }
 },
 "nbformat": 4,
 "nbformat_minor": 5
}
